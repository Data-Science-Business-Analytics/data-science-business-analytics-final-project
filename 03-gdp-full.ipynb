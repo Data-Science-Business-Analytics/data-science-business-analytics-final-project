{
 "cells": [
  {
   "cell_type": "markdown",
   "metadata": {
    "colab_type": "text",
    "id": "VDi8LeBuhFEs"
   },
   "source": [
    "# Data Science Final Project\n",
    "Charles Laurent, Jenny Park, AJ Marino\n",
    "\n",
    "## Part 1a - Random Forest Regressor - FULL DATA"
   ]
  },
  {
   "cell_type": "code",
   "execution_count": 1,
   "metadata": {},
   "outputs": [],
   "source": [
    "%matplotlib inline\n",
    "import matplotlib.pyplot as plt\n",
    "import pandas as pd\n",
    "import numpy as np\n",
    "\n",
    "from sklearn import metrics\n",
    "# Import the model we are using\n",
    "from sklearn.ensemble import RandomForestRegressor"
   ]
  },
  {
   "cell_type": "code",
   "execution_count": 2,
   "metadata": {},
   "outputs": [
    {
     "data": {
      "text/html": [
       "<style>.container { width:96% !important; }</style>"
      ],
      "text/plain": [
       "<IPython.core.display.HTML object>"
      ]
     },
     "metadata": {},
     "output_type": "display_data"
    }
   ],
   "source": [
    "from IPython.core.display import display, HTML\n",
    "display(HTML(\"<style>.container { width:96% !important; }</style>\"))\n",
    "\n",
    "pd.set_option('display.max_columns', None)"
   ]
  },
  {
   "cell_type": "code",
   "execution_count": 3,
   "metadata": {},
   "outputs": [],
   "source": [
    "# TODO - Update path to files\n",
    "datadir='../dev/project/CollegeScorecard_Raw_Data'\n",
    "\n",
    "# TODO set features_dir \n",
    "features_dir = './data'\n"
   ]
  },
  {
   "cell_type": "code",
   "execution_count": null,
   "metadata": {},
   "outputs": [],
   "source": []
  },
  {
   "cell_type": "code",
   "execution_count": 4,
   "metadata": {},
   "outputs": [],
   "source": [
    "# import collegedatalib\n",
    "import collegedatahelper"
   ]
  },
  {
   "cell_type": "code",
   "execution_count": 5,
   "metadata": {},
   "outputs": [
    {
     "name": "stdout",
     "output_type": "stream",
     "text": [
      "CPU times: user 3min 12s, sys: 26 s, total: 3min 38s\n",
      "Wall time: 3min 39s\n"
     ]
    }
   ],
   "source": [
    "%%time\n",
    "data_dict = collegedatahelper.create_data_dict_full(datadir)"
   ]
  },
  {
   "cell_type": "markdown",
   "metadata": {},
   "source": [
    "## Adding GDP (External Data)"
   ]
  },
  {
   "cell_type": "code",
   "execution_count": 37,
   "metadata": {},
   "outputs": [],
   "source": [
    "gdp_df = pd.read_csv(f'{features_dir}/gdp.csv', low_memory=False)"
   ]
  },
  {
   "cell_type": "code",
   "execution_count": 38,
   "metadata": {},
   "outputs": [],
   "source": [
    "gdp_df['year'] = gdp_df['year'].apply(str)\n"
   ]
  },
  {
   "cell_type": "code",
   "execution_count": 55,
   "metadata": {},
   "outputs": [
    {
     "data": {
      "text/html": [
       "<div>\n",
       "<style scoped>\n",
       "    .dataframe tbody tr th:only-of-type {\n",
       "        vertical-align: middle;\n",
       "    }\n",
       "\n",
       "    .dataframe tbody tr th {\n",
       "        vertical-align: top;\n",
       "    }\n",
       "\n",
       "    .dataframe thead th {\n",
       "        text-align: right;\n",
       "    }\n",
       "</style>\n",
       "<table border=\"1\" class=\"dataframe\">\n",
       "  <thead>\n",
       "    <tr style=\"text-align: right;\">\n",
       "      <th></th>\n",
       "      <th>year</th>\n",
       "      <th>GDP</th>\n",
       "    </tr>\n",
       "  </thead>\n",
       "  <tbody>\n",
       "    <tr>\n",
       "      <td>0</td>\n",
       "      <td>2018</td>\n",
       "      <td>20500.6</td>\n",
       "    </tr>\n",
       "    <tr>\n",
       "      <td>1</td>\n",
       "      <td>2017</td>\n",
       "      <td>19485.4</td>\n",
       "    </tr>\n",
       "    <tr>\n",
       "      <td>2</td>\n",
       "      <td>2016</td>\n",
       "      <td>18707.2</td>\n",
       "    </tr>\n",
       "    <tr>\n",
       "      <td>3</td>\n",
       "      <td>2015</td>\n",
       "      <td>18219.3</td>\n",
       "    </tr>\n",
       "    <tr>\n",
       "      <td>4</td>\n",
       "      <td>2014</td>\n",
       "      <td>17521.7</td>\n",
       "    </tr>\n",
       "  </tbody>\n",
       "</table>\n",
       "</div>"
      ],
      "text/plain": [
       "   year      GDP\n",
       "0  2018  20500.6\n",
       "1  2017  19485.4\n",
       "2  2016  18707.2\n",
       "3  2015  18219.3\n",
       "4  2014  17521.7"
      ]
     },
     "execution_count": 55,
     "metadata": {},
     "output_type": "execute_result"
    }
   ],
   "source": [
    "gdp_df.head()"
   ]
  },
  {
   "cell_type": "code",
   "execution_count": 41,
   "metadata": {},
   "outputs": [
    {
     "name": "stdout",
     "output_type": "stream",
     "text": [
      "CPU times: user 1min 1s, sys: 44.2 s, total: 1min 46s\n",
      "Wall time: 1min 14s\n"
     ]
    }
   ],
   "source": [
    "%%time\n",
    "\n",
    "dictionary = data_dict.copy()\n",
    "full_df = pd.DataFrame()\n",
    "\n",
    "for year in data_dict:\n",
    "    dictionary[year]['year'] = year[:4]\n",
    "    full_df = full_df.append(dictionary[year], sort=False)\n",
    "\n",
    "# Add GDP data to full dataframe\n",
    "full_df = full_df.merge(gdp_df, left_on='year', right_on='year')\n"
   ]
  },
  {
   "cell_type": "code",
   "execution_count": 42,
   "metadata": {},
   "outputs": [],
   "source": [
    "def format_df(df):\n",
    "    df_copy = df.copy()\n",
    "\n",
    "    # Drop all columns with less than 95% not nan\n",
    "    rows = df_copy.shape[0]\n",
    "    df_copy = df_copy.apply(pd.to_numeric, errors='coerce')\n",
    "    df_copy = df_copy.dropna(axis=1, thresh=rows*0.9)\n",
    "\n",
    "    # Add back debt_to_income\n",
    "    df_copy['debt_to_income'] = df['debt_to_income']\n",
    "\n",
    "    # Drop all rows with nan\n",
    "    df_copy = df_copy.dropna(axis=0)\n",
    "    \n",
    "    return df_copy"
   ]
  },
  {
   "cell_type": "code",
   "execution_count": 43,
   "metadata": {},
   "outputs": [
    {
     "name": "stdout",
     "output_type": "stream",
     "text": [
      "CPU times: user 33.1 s, sys: 18.8 s, total: 51.9 s\n",
      "Wall time: 48.3 s\n"
     ]
    }
   ],
   "source": [
    "%%time\n",
    "# CONTROL \n",
    "# 1 - Public\n",
    "# 2 - Private non-profit\n",
    "# 3 - Private for-profit\n",
    "df_pub = format_df(full_df.loc[full_df['CONTROL'] == 1])\n",
    "df_priv = format_df(full_df.loc[full_df['CONTROL'] == 2])\n",
    "df_priv_profit = format_df(full_df.loc[full_df['CONTROL'] == 3])"
   ]
  },
  {
   "cell_type": "code",
   "execution_count": 44,
   "metadata": {},
   "outputs": [
    {
     "data": {
      "text/plain": [
       "(12649, 248)"
      ]
     },
     "execution_count": 44,
     "metadata": {},
     "output_type": "execute_result"
    }
   ],
   "source": [
    "df_pub.shape"
   ]
  },
  {
   "cell_type": "code",
   "execution_count": 45,
   "metadata": {},
   "outputs": [
    {
     "data": {
      "text/plain": [
       "(10696, 204)"
      ]
     },
     "execution_count": 45,
     "metadata": {},
     "output_type": "execute_result"
    }
   ],
   "source": [
    "df_priv.shape"
   ]
  },
  {
   "cell_type": "code",
   "execution_count": 46,
   "metadata": {},
   "outputs": [
    {
     "data": {
      "text/plain": [
       "(17447, 247)"
      ]
     },
     "execution_count": 46,
     "metadata": {},
     "output_type": "execute_result"
    }
   ],
   "source": [
    "df_priv_profit.shape"
   ]
  },
  {
   "cell_type": "code",
   "execution_count": null,
   "metadata": {},
   "outputs": [],
   "source": []
  },
  {
   "cell_type": "code",
   "execution_count": null,
   "metadata": {},
   "outputs": [],
   "source": []
  },
  {
   "cell_type": "markdown",
   "metadata": {},
   "source": [
    "## Random Forest"
   ]
  },
  {
   "cell_type": "code",
   "execution_count": 47,
   "metadata": {},
   "outputs": [],
   "source": [
    "def fitRandomForestRegressor(df, train_features, target='debt_to_income'):\n",
    "    # Instantiate model with 10 decision trees\n",
    "    rf = RandomForestRegressor(n_estimators = 100, random_state = 42, oob_score=True)\n",
    "\n",
    "    rf.fit(df[train_features], df['debt_to_income'])\n",
    "    \n",
    "    return rf\n"
   ]
  },
  {
   "cell_type": "code",
   "execution_count": 48,
   "metadata": {},
   "outputs": [],
   "source": [
    "def getImportantFeatures(rf, df):\n",
    "    important_features_dict = {}\n",
    "    for x,i in enumerate(rf.feature_importances_):\n",
    "        important_features_dict[x]=i\n",
    "\n",
    "\n",
    "    important_features_list = sorted(important_features_dict,\n",
    "                                     key=important_features_dict.get,\n",
    "                                     reverse=True)\n",
    "    \n",
    "    top_features = df.columns[important_features_list]\n",
    "    \n",
    "    return top_features[:20]"
   ]
  },
  {
   "cell_type": "code",
   "execution_count": 49,
   "metadata": {},
   "outputs": [
    {
     "name": "stdout",
     "output_type": "stream",
     "text": [
      "Important Features for Public Colleges/Universities: \n",
      "Index(['UGDS_WOMEN', 'NUMBRANCH', 'UGDS_UNKN', 'PREDDEG', 'PPTUG_EF',\n",
      "       'ST_FIPS', 'CIP54BACHL', 'CONTROL', 'PCIP49', 'UGDS_MEN', 'OPEID6',\n",
      "       'MAIN', 'PCIP50', 'ICLEVEL', 'UNITID', 'PCIP42', 'PCIP43', 'OPEID',\n",
      "       'UGDS_NRA', 'UGDS'],\n",
      "      dtype='object')\n",
      "CPU times: user 49.1 s, sys: 558 ms, total: 49.6 s\n",
      "Wall time: 49.5 s\n"
     ]
    }
   ],
   "source": [
    "%%time\n",
    "df_pub_copy = format_df(df_pub)\n",
    "\n",
    "# Split train data\n",
    "df_pub_train = df_pub_copy.dropna(subset=['debt_to_income'])\n",
    "\n",
    "print('Important Features for Public Colleges/Universities: ')\n",
    "train_features_pub = list(df_pub_train.columns)\n",
    "train_features_pub.remove('debt_to_income')\n",
    "train_features_pub.remove('UNITID')\n",
    "train_features_pub.remove('year')\n",
    "\n",
    "rf_pub = fitRandomForestRegressor(df_pub_train, train_features_pub)\n",
    "top_features_pub = getImportantFeatures(rf_pub, df_pub_train)\n",
    "print(top_features_pub)"
   ]
  },
  {
   "cell_type": "code",
   "execution_count": 50,
   "metadata": {},
   "outputs": [
    {
     "name": "stdout",
     "output_type": "stream",
     "text": [
      "Important Features for Private Colleges/Universities: \n",
      "Index(['ICLEVEL', 'CIP50CERT4', 'UNITID', 'OPEID', 'CIP52CERT4', 'CONTROL',\n",
      "       'ST_FIPS', 'CIP45CERT4', 'NUMBRANCH', 'PREDDEG', 'CIP04CERT4', 'MAIN',\n",
      "       'CIP51CERT2', 'CIP13CERT4', 'CIP52CERT2', 'CIP51CERT4', 'CIP14CERT4',\n",
      "       'CIP24CERT4', 'CIP11CERT4', 'CIP39CERT4'],\n",
      "      dtype='object')\n",
      "CPU times: user 15.1 s, sys: 263 ms, total: 15.3 s\n",
      "Wall time: 14.8 s\n"
     ]
    }
   ],
   "source": [
    "%%time\n",
    "df_priv_copy = format_df(df_priv)\n",
    "\n",
    "# Split train data\n",
    "df_priv_train = df_priv_copy.dropna(subset=['debt_to_income'])\n",
    "\n",
    "print('Important Features for Private Colleges/Universities: ')\n",
    "train_features_priv = list(df_priv_train.columns)\n",
    "train_features_priv.remove('debt_to_income')\n",
    "train_features_priv.remove('UNITID')\n",
    "train_features_priv.remove('year')\n",
    "\n",
    "rf_priv = fitRandomForestRegressor(df_priv_train, train_features_priv)\n",
    "top_features_priv = getImportantFeatures(rf_priv, df_priv_train)\n",
    "print(top_features_priv)"
   ]
  },
  {
   "cell_type": "code",
   "execution_count": 51,
   "metadata": {},
   "outputs": [
    {
     "name": "stdout",
     "output_type": "stream",
     "text": [
      "Important Features for Private for Profit Colleges/Universities: \n",
      "Index(['UGDS_WOMEN', 'MAIN', 'CIP54BACHL', 'OPEID', 'CONTROL', 'UNITID',\n",
      "       'ICLEVEL', 'UGDS_MEN', 'ST_FIPS', 'UGDS_UNKN', 'UGDS_NRA', 'PCIP49',\n",
      "       'PCIP50', 'PCIP11', 'NUMBRANCH', 'PCIP51', 'PREDDEG', 'CIP12ASSOC',\n",
      "       'UGDS', 'PCIP10'],\n",
      "      dtype='object')\n",
      "CPU times: user 30.8 s, sys: 349 ms, total: 31.2 s\n",
      "Wall time: 30.5 s\n"
     ]
    }
   ],
   "source": [
    "%%time\n",
    "df_priv_profit_copy = format_df(df_priv_profit)\n",
    "\n",
    "# Split train data\n",
    "df_priv_profit_train = df_priv_profit_copy.dropna(subset=['debt_to_income'])\n",
    "\n",
    "print('Important Features for Private for Profit Colleges/Universities: ')\n",
    "train_features_priv_profit = list(df_priv_profit_train.columns)\n",
    "train_features_priv_profit.remove('debt_to_income')\n",
    "train_features_priv_profit.remove('UNITID')\n",
    "train_features_priv_profit.remove('year')\n",
    "\n",
    "rf_priv_profit = fitRandomForestRegressor(df_priv_profit_train, train_features_priv_profit)\n",
    "top_features_priv_profit = getImportantFeatures(rf_priv_profit, df_priv_profit_train)\n",
    "print(top_features_priv_profit)"
   ]
  },
  {
   "cell_type": "code",
   "execution_count": 52,
   "metadata": {},
   "outputs": [
    {
     "name": "stdout",
     "output_type": "stream",
     "text": [
      "0.8779168361580462\n",
      "0.8097776710213376\n",
      "0.7780432641595247\n"
     ]
    }
   ],
   "source": [
    "print(rf_pub.oob_score_)\n",
    "print(rf_priv.oob_score_)\n",
    "print(rf_priv_profit.oob_score_)\n"
   ]
  },
  {
   "cell_type": "code",
   "execution_count": null,
   "metadata": {},
   "outputs": [],
   "source": []
  },
  {
   "cell_type": "code",
   "execution_count": null,
   "metadata": {},
   "outputs": [],
   "source": []
  },
  {
   "cell_type": "code",
   "execution_count": null,
   "metadata": {},
   "outputs": [],
   "source": []
  },
  {
   "cell_type": "code",
   "execution_count": null,
   "metadata": {},
   "outputs": [],
   "source": []
  },
  {
   "cell_type": "code",
   "execution_count": null,
   "metadata": {},
   "outputs": [],
   "source": []
  },
  {
   "cell_type": "code",
   "execution_count": null,
   "metadata": {},
   "outputs": [],
   "source": []
  },
  {
   "cell_type": "markdown",
   "metadata": {},
   "source": [
    "## Predicting NYU Debt-to-Income"
   ]
  },
  {
   "cell_type": "code",
   "execution_count": 53,
   "metadata": {},
   "outputs": [],
   "source": [
    "df_nyu = full_df.loc[full_df['UNITID'] == 193900]"
   ]
  },
  {
   "cell_type": "code",
   "execution_count": 54,
   "metadata": {},
   "outputs": [
    {
     "data": {
      "image/png": "[encoded data removed]",
      "text/plain": [
       "<Figure size 1080x360 with 1 Axes>"
      ]
     },
     "metadata": {
      "needs_background": "light"
     },
     "output_type": "display_data"
    }
   ],
   "source": [
    "predictions = rf_priv.predict(df_nyu[train_features_priv])\n",
    "\n",
    "nyu_data = {\n",
    "    'year': list(df_nyu['year']),\n",
    "    'debt_to_income': list(df_nyu['debt_to_income']),\n",
    "    'prediction': list(predictions)\n",
    "}\n",
    "\n",
    "df_nyu = pd.DataFrame(nyu_data)\n",
    "\n",
    "ax = df_nyu.plot.bar(\n",
    "    x='year',\n",
    "    title='NYU Debt-To-Income Prediction',\n",
    "    legend=False,\n",
    "    figsize=(15,5)\n",
    ")"
   ]
  },
  {
   "cell_type": "code",
   "execution_count": null,
   "metadata": {},
   "outputs": [],
   "source": []
  }
 ],
 "metadata": {
  "colab": {
   "collapsed_sections": [],
   "include_colab_link": true,
   "name": "Untitled0.ipynb",
   "provenance": []
  },
  "kernelspec": {
   "display_name": "Python 3",
   "language": "python",
   "name": "python3"
  },
  "language_info": {
   "codemirror_mode": {
    "name": "ipython",
    "version": 3
   },
   "file_extension": ".py",
   "mimetype": "text/x-python",
   "name": "python",
   "nbconvert_exporter": "python",
   "pygments_lexer": "ipython3",
   "version": "3.7.4"
  }
 },
 "nbformat": 4,
 "nbformat_minor": 1
}
