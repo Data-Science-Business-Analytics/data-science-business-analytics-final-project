{
 "cells": [
  {
   "cell_type": "markdown",
   "metadata": {
    "colab_type": "text",
    "id": "VDi8LeBuhFEs"
   },
   "source": [
    "# Data Science Final Project\n",
    "Charles Laurent, Jenny Park, AJ Marino\n",
    "\n",
    "## Part 1a - Random Forest Regressor"
   ]
  },
  {
   "cell_type": "markdown",
   "metadata": {},
   "source": [
    "### Setup"
   ]
  },
  {
   "cell_type": "code",
   "execution_count": 1,
   "metadata": {},
   "outputs": [],
   "source": [
    "%matplotlib inline\n",
    "import matplotlib.pyplot as plt\n",
    "import pandas as pd\n",
    "import numpy as np\n",
    "\n",
    "from sklearn import metrics"
   ]
  },
  {
   "cell_type": "code",
   "execution_count": 2,
   "metadata": {},
   "outputs": [
    {
     "data": {
      "text/html": [
       "<style>.container { width:96% !important; }</style>"
      ],
      "text/plain": [
       "<IPython.core.display.HTML object>"
      ]
     },
     "metadata": {},
     "output_type": "display_data"
    }
   ],
   "source": [
    "from IPython.core.display import display, HTML\n",
    "display(HTML(\"<style>.container { width:96% !important; }</style>\"))\n",
    "\n",
    "pd.set_option('display.max_columns', None)"
   ]
  },
  {
   "cell_type": "code",
   "execution_count": 3,
   "metadata": {},
   "outputs": [],
   "source": [
    "# TODO - Update path to files\n",
    "datadir='../dev/project/CollegeScorecard_Raw_Data'\n",
    "\n",
    "# TODO set features_dir \n",
    "features_dir = './data'\n"
   ]
  },
  {
   "cell_type": "code",
   "execution_count": 4,
   "metadata": {},
   "outputs": [],
   "source": [
    "# import collegedatalib\n",
    "import collegedatahelper"
   ]
  },
  {
   "cell_type": "markdown",
   "metadata": {},
   "source": [
    "### Import Data (formated through library)"
   ]
  },
  {
   "cell_type": "code",
   "execution_count": 5,
   "metadata": {},
   "outputs": [
    {
     "name": "stdout",
     "output_type": "stream",
     "text": [
      "CPU times: user 55.9 s, sys: 8.69 s, total: 1min 4s\n",
      "Wall time: 1min\n"
     ]
    }
   ],
   "source": [
    "%%time\n",
    "data_dict = collegedatahelper.create_data_dict(datadir, features_dir)"
   ]
  },
  {
   "cell_type": "code",
   "execution_count": 6,
   "metadata": {},
   "outputs": [],
   "source": [
    "df = data_dict['2012_13']\n",
    "df_13 = data_dict['2013_14']\n",
    "df_new = data_dict['2017_18']"
   ]
  },
  {
   "cell_type": "code",
   "execution_count": 7,
   "metadata": {},
   "outputs": [],
   "source": [
    "# CONTROL \n",
    "# 1 - Public\n",
    "# 2 - Private non-profit\n",
    "# 3 - Private for-profit\n",
    "df_pub = df_13['public']\n",
    "df_priv = df_13['private']\n",
    "df_priv_profit = df_13['private_for_profit']"
   ]
  },
  {
   "cell_type": "code",
   "execution_count": 8,
   "metadata": {},
   "outputs": [
    {
     "name": "stdout",
     "output_type": "stream",
     "text": [
      "2012_13\n",
      "(1662, 416)\n",
      "(1411, 416)\n",
      "(2759, 416)\n",
      "2013_14\n",
      "(1673, 416)\n",
      "(1428, 416)\n",
      "(2801, 416)\n",
      "2014_15\n",
      "(1669, 416)\n",
      "(1439, 416)\n",
      "(2780, 416)\n",
      "2015_16\n",
      "(2063, 1977)\n",
      "(2007, 1977)\n",
      "(3523, 1977)\n",
      "2016_17\n",
      "(2064, 1977)\n",
      "(2009, 1977)\n",
      "(3102, 1977)\n",
      "2017_18\n",
      "(2076, 1977)\n",
      "(2041, 1977)\n",
      "(2995, 1977)\n"
     ]
    }
   ],
   "source": [
    "for key in data_dict:\n",
    "    print(key)\n",
    "    print(data_dict[key]['public'].shape)\n",
    "    print(data_dict[key]['private'].shape)\n",
    "    print(data_dict[key]['private_for_profit'].shape)"
   ]
  },
  {
   "cell_type": "code",
   "execution_count": null,
   "metadata": {},
   "outputs": [],
   "source": []
  },
  {
   "cell_type": "markdown",
   "metadata": {},
   "source": [
    "# Random Forest"
   ]
  },
  {
   "cell_type": "code",
   "execution_count": 9,
   "metadata": {},
   "outputs": [],
   "source": [
    "# Import the model we are using\n",
    "from sklearn.ensemble import RandomForestRegressor"
   ]
  },
  {
   "cell_type": "code",
   "execution_count": 10,
   "metadata": {},
   "outputs": [],
   "source": [
    "def getImportantFeatures(df):\n",
    "    train_features = list(df.columns)\n",
    "    train_features.remove('debt_to_income')\n",
    "    \n",
    "    # Instantiate model with 1000 decision trees\n",
    "    rf = RandomForestRegressor(n_estimators = 1000, random_state = 42)\n",
    "\n",
    "    rf.fit(df[train_features], df['debt_to_income'])\n",
    "    \n",
    "    important_features_dict = {}\n",
    "    for x,i in enumerate(rf.feature_importances_):\n",
    "        important_features_dict[x]=i\n",
    "\n",
    "\n",
    "    important_features_list = sorted(important_features_dict,\n",
    "                                     key=important_features_dict.get,\n",
    "                                     reverse=True)\n",
    "    \n",
    "    top_features = df.columns[important_features_list]\n",
    "    \n",
    "    return top_features[:20]"
   ]
  },
  {
   "cell_type": "code",
   "execution_count": 11,
   "metadata": {},
   "outputs": [
    {
     "name": "stdout",
     "output_type": "stream",
     "text": [
      "Important Features for Public Colleges/Universities: \n",
      "Index(['SAT_AVG_ALL', 'RET_FT4', 'ADM_RATE_ALL', 'UGDS_BLACK', 'PPTUG_EF',\n",
      "       'TUITIONFEE_IN', 'UGDS_ASIAN', 'NPT4_PUB', 'PCIP50', 'UGDS_WHITE',\n",
      "       'COSTT4_A', 'UGDS_HISP', 'UG25ABV', 'UGDS_NHPI', 'TUITIONFEE_OUT',\n",
      "       'UGDS_AIAN', 'NPT45_PUB', 'PCIP14', 'NPT4_3075_PUB', 'GRADS'],\n",
      "      dtype='object')\n"
     ]
    }
   ],
   "source": [
    "%%time\n",
    "print('Important Features for Public Colleges/Universities: ')\n",
    "top_features_pub = getImportantFeatures(df_pub)\n",
    "print(top_features_pub)"
   ]
  },
  {
   "cell_type": "code",
   "execution_count": 12,
   "metadata": {},
   "outputs": [
    {
     "name": "stdout",
     "output_type": "stream",
     "text": [
      "Important Features for Private Colleges/Universities: \n",
      "Index(['PCIP50', 'TUITIONFEE_IN', 'ADM_RATE_ALL', 'PCIP23', 'RET_FT4',\n",
      "       'PPTUG_EF', 'GRADS', 'UGDS_BLACK', 'NPT4_3075_PRIV', 'NPT42_PRIV',\n",
      "       'PFTFTUG1_EF', 'UG25ABV', 'UGDS_WHITE', 'PCIP52', 'UGDS_HISP',\n",
      "       'SAT_AVG_ALL', 'UGDS', 'NPT41_PRIV', 'PCIP51', 'D_PCTPELL_PCTFLOAN'],\n",
      "      dtype='object')\n"
     ]
    }
   ],
   "source": [
    "%%time\n",
    "print('Important Features for Private Colleges/Universities: ')\n",
    "\n",
    "top_features_priv = getImportantFeatures(df_priv)\n",
    "print(top_features_priv)\n"
   ]
  },
  {
   "cell_type": "code",
   "execution_count": null,
   "metadata": {},
   "outputs": [
    {
     "name": "stdout",
     "output_type": "stream",
     "text": [
      "Important Features for Private for Profit Colleges/Universities: \n"
     ]
    }
   ],
   "source": [
    "%%time\n",
    "print('Important Features for Private for Profit Colleges/Universities: ')\n",
    "\n",
    "top_features_priv_profit = getImportantFeatures(df_priv_profit)\n",
    "print(top_features_priv_profit)"
   ]
  },
  {
   "cell_type": "code",
   "execution_count": null,
   "metadata": {},
   "outputs": [],
   "source": []
  }
 ],
 "metadata": {
  "colab": {
   "collapsed_sections": [],
   "include_colab_link": true,
   "name": "Untitled0.ipynb",
   "provenance": []
  },
  "kernelspec": {
   "display_name": "Python 3",
   "language": "python",
   "name": "python3"
  },
  "language_info": {
   "codemirror_mode": {
    "name": "ipython",
    "version": 3
   },
   "file_extension": ".py",
   "mimetype": "text/x-python",
   "name": "python",
   "nbconvert_exporter": "python",
   "pygments_lexer": "ipython3",
   "version": "3.7.4"
  }
 },
 "nbformat": 4,
 "nbformat_minor": 1
}
