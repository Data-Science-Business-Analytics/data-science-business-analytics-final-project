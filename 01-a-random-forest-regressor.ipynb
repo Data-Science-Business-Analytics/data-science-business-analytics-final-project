{
 "cells": [
  {
   "cell_type": "markdown",
   "metadata": {
    "colab_type": "text",
    "id": "VDi8LeBuhFEs"
   },
   "source": [
    "# Data Science Final Project\n",
    "Charles Laurent, Jenny Park, AJ Marino\n",
    "\n",
    "## Part 1a - Random Forest Regressor"
   ]
  },
  {
   "cell_type": "markdown",
   "metadata": {},
   "source": [
    "### Setup"
   ]
  },
  {
   "cell_type": "code",
   "execution_count": 1,
   "metadata": {},
   "outputs": [],
   "source": [
    "%matplotlib inline\n",
    "import matplotlib.pyplot as plt\n",
    "import pandas as pd\n",
    "import numpy as np\n",
    "\n",
    "from sklearn import metrics"
   ]
  },
  {
   "cell_type": "code",
   "execution_count": 2,
   "metadata": {},
   "outputs": [
    {
     "data": {
      "text/html": [
       "<style>.container { width:96% !important; }</style>"
      ],
      "text/plain": [
       "<IPython.core.display.HTML object>"
      ]
     },
     "metadata": {},
     "output_type": "display_data"
    }
   ],
   "source": [
    "from IPython.core.display import display, HTML\n",
    "display(HTML(\"<style>.container { width:96% !important; }</style>\"))\n",
    "\n",
    "pd.set_option('display.max_columns', None)"
   ]
  },
  {
   "cell_type": "code",
   "execution_count": 3,
   "metadata": {},
   "outputs": [],
   "source": [
    "# TODO - Update path to files\n",
    "datadir='../dev/project/CollegeScorecard_Raw_Data'\n",
    "\n",
    "# TODO set features_dir \n",
    "features_dir = './data'\n"
   ]
  },
  {
   "cell_type": "code",
   "execution_count": 4,
   "metadata": {},
   "outputs": [],
   "source": [
    "# import collegedatalib\n",
    "import collegedatahelper"
   ]
  },
  {
   "cell_type": "markdown",
   "metadata": {},
   "source": [
    "### Import Data (formated through library)"
   ]
  },
  {
   "cell_type": "code",
   "execution_count": 5,
   "metadata": {},
   "outputs": [
    {
     "name": "stdout",
     "output_type": "stream",
     "text": [
      "CPU times: user 3min 5s, sys: 27.3 s, total: 3min 33s\n",
      "Wall time: 3min 5s\n"
     ]
    }
   ],
   "source": [
    "%%time\n",
    "data_dict = collegedatahelper.create_data_dict(datadir, features_dir)"
   ]
  },
  {
   "cell_type": "code",
   "execution_count": 6,
   "metadata": {},
   "outputs": [],
   "source": [
    "df = data_dict['2012_13']\n",
    "df_13 = data_dict['2013_14']\n",
    "df_new = data_dict['2017_18']"
   ]
  },
  {
   "cell_type": "code",
   "execution_count": 7,
   "metadata": {},
   "outputs": [],
   "source": [
    "# CONTROL \n",
    "# 1 - Public\n",
    "# 2 - Private non-profit\n",
    "# 3 - Private for-profit\n",
    "df_pub = df_13['public']\n",
    "df_priv = df_13['private']\n",
    "df_priv_profit = df_13['private_for_profit']"
   ]
  },
  {
   "cell_type": "code",
   "execution_count": 8,
   "metadata": {},
   "outputs": [
    {
     "name": "stdout",
     "output_type": "stream",
     "text": [
      "2003_04\n",
      "(1580, 417)\n",
      "(1346, 417)\n",
      "(1633, 417)\n",
      "2005_06\n",
      "(1591, 417)\n",
      "(1343, 417)\n",
      "(1902, 417)\n",
      "2007_08\n",
      "(1599, 417)\n",
      "(1369, 417)\n",
      "(2083, 417)\n",
      "2009_10\n",
      "(1621, 417)\n",
      "(1395, 417)\n",
      "(2346, 417)\n",
      "2011_12\n",
      "(1667, 417)\n",
      "(1410, 417)\n",
      "(2689, 417)\n",
      "2012_13\n",
      "(1662, 417)\n",
      "(1411, 417)\n",
      "(2759, 417)\n",
      "2013_14\n",
      "(1673, 417)\n",
      "(1428, 417)\n",
      "(2801, 417)\n",
      "2014_15\n",
      "(1669, 417)\n",
      "(1439, 417)\n",
      "(2780, 417)\n",
      "1996_97\n",
      "(2094, 1977)\n",
      "(2057, 1977)\n",
      "(2643, 1977)\n",
      "1997_98\n",
      "(2192, 1977)\n",
      "(2020, 1977)\n",
      "(2487, 1977)\n",
      "1998_99\n",
      "(2102, 1977)\n",
      "(1985, 1977)\n",
      "(2393, 1977)\n",
      "1999_00\n",
      "(2090, 1977)\n",
      "(1936, 1977)\n",
      "(2440, 1977)\n",
      "2000_01\n",
      "(2151, 1977)\n",
      "(1930, 1977)\n",
      "(2397, 1977)\n",
      "2001_02\n",
      "(2141, 1977)\n",
      "(1991, 1977)\n",
      "(2487, 1977)\n",
      "2002_03\n",
      "(2132, 1977)\n",
      "(1968, 1977)\n",
      "(2446, 1977)\n",
      "2004_05\n",
      "(2099, 1977)\n",
      "(1952, 1977)\n",
      "(2609, 1977)\n",
      "2006_07\n",
      "(2112, 1977)\n",
      "(1942, 1977)\n",
      "(2794, 1977)\n",
      "2008_09\n",
      "(2085, 1977)\n",
      "(1899, 1977)\n",
      "(2968, 1977)\n",
      "2010_11\n",
      "(2077, 1977)\n",
      "(1915, 1977)\n",
      "(3422, 1977)\n",
      "2015_16\n",
      "(2063, 1977)\n",
      "(2007, 1977)\n",
      "(3523, 1977)\n",
      "2016_17\n",
      "(2064, 1977)\n",
      "(2009, 1977)\n",
      "(3102, 1977)\n",
      "2017_18\n",
      "(2076, 1977)\n",
      "(2041, 1977)\n",
      "(2995, 1977)\n"
     ]
    }
   ],
   "source": [
    "for key in data_dict:\n",
    "    print(key)\n",
    "    print(data_dict[key]['public'].shape)\n",
    "    print(data_dict[key]['private'].shape)\n",
    "    print(data_dict[key]['private_for_profit'].shape)"
   ]
  },
  {
   "cell_type": "code",
   "execution_count": null,
   "metadata": {},
   "outputs": [],
   "source": []
  },
  {
   "cell_type": "markdown",
   "metadata": {},
   "source": [
    "# Random Forest"
   ]
  },
  {
   "cell_type": "code",
   "execution_count": 9,
   "metadata": {},
   "outputs": [],
   "source": [
    "# Import the model we are using\n",
    "from sklearn.ensemble import RandomForestRegressor"
   ]
  },
  {
   "cell_type": "code",
   "execution_count": 10,
   "metadata": {},
   "outputs": [],
   "source": [
    "def fitRandomForestRegressor(df, train_features):\n",
    "    # Instantiate model with 10 decision trees\n",
    "    rf = RandomForestRegressor(n_estimators = 100, random_state = 42, oob_score=True)\n",
    "\n",
    "    rf.fit(df[train_features], df['debt_to_income'])\n",
    "    \n",
    "    return rf\n"
   ]
  },
  {
   "cell_type": "code",
   "execution_count": 11,
   "metadata": {},
   "outputs": [],
   "source": [
    "def getImportantFeatures(rf, df):\n",
    "    important_features_dict = {}\n",
    "    for x,i in enumerate(rf.feature_importances_):\n",
    "        important_features_dict[x]=i\n",
    "\n",
    "\n",
    "    important_features_list = sorted(important_features_dict,\n",
    "                                     key=important_features_dict.get,\n",
    "                                     reverse=True)\n",
    "    \n",
    "    top_features = df.columns[important_features_list]\n",
    "    \n",
    "    return top_features[:20]"
   ]
  },
  {
   "cell_type": "code",
   "execution_count": 12,
   "metadata": {},
   "outputs": [
    {
     "name": "stdout",
     "output_type": "stream",
     "text": [
      "Important Features for Public Colleges/Universities: \n",
      "Index(['SAT_AVG', 'PFTFTUG1_EF', 'ADM_RATE', 'UGDS_WHITE', 'UG_HISPOLD',\n",
      "       'COSTT4_P', 'UG', 'PCIP49', 'UGDS_HISP', 'PPTUG_EF2', 'NUM45_OTHER',\n",
      "       'UGDS_BLACK', 'RET_PTL4', 'UGDS_AIAN', 'TUITIONFEE_IN', 'UGDS_ASIAN',\n",
      "       'PCIP13', 'NPT4_048_OTHER', 'NPT44_PUB', 'UGDS_NHPI'],\n",
      "      dtype='object')\n",
      "CPU times: user 8.67 s, sys: 64.6 ms, total: 8.74 s\n",
      "Wall time: 8.2 s\n"
     ]
    }
   ],
   "source": [
    "%%time\n",
    "print('Important Features for Public Colleges/Universities: ')\n",
    "train_features_pub = list(df_pub.columns)\n",
    "train_features_pub.remove('debt_to_income')\n",
    "train_features_pub.remove('UNITID')\n",
    "\n",
    "rf_pub = fitRandomForestRegressor(df_pub, train_features_pub)\n",
    "top_features_pub = getImportantFeatures(rf_pub, df_pub)\n",
    "print(top_features_pub)"
   ]
  },
  {
   "cell_type": "code",
   "execution_count": 13,
   "metadata": {},
   "outputs": [
    {
     "name": "stdout",
     "output_type": "stream",
     "text": [
      "Important Features for Private Colleges/Universities: \n",
      "Index(['PCIP49', 'COSTT4_P', 'PCIP22', 'ADM_RATE', 'PFTFTUG1_EF', 'UG_HISPOLD',\n",
      "       'UGNONDS', 'UGDS_WHITE', 'NPT4_3075_PUB', 'NPT41_PRIV',\n",
      "       'TUITIONFEE_PROG', 'RET_PTL4', 'UG', 'PCIP51', 'SAT_AVG', 'UGDS_BLACK',\n",
      "       'CIP54BACHL', 'NPT4_048_PUB', 'PCIP01', 'UGDS_HISP'],\n",
      "      dtype='object')\n",
      "CPU times: user 7.22 s, sys: 43.6 ms, total: 7.26 s\n",
      "Wall time: 6.8 s\n"
     ]
    }
   ],
   "source": [
    "%%time\n",
    "print('Important Features for Private Colleges/Universities: ')\n",
    "train_features_priv = list(df_priv.columns)\n",
    "train_features_priv.remove('debt_to_income')\n",
    "train_features_priv.remove('UNITID')\n",
    "\n",
    "rf_priv = fitRandomForestRegressor(df_priv, train_features_priv)\n",
    "top_features_priv = getImportantFeatures(rf_priv, df_priv)\n",
    "print(top_features_priv)\n"
   ]
  },
  {
   "cell_type": "code",
   "execution_count": 14,
   "metadata": {},
   "outputs": [
    {
     "name": "stdout",
     "output_type": "stream",
     "text": [
      "Important Features for Private for Profit Colleges/Universities: \n",
      "Index(['COSTT4_P', 'UG_HISPOLD', 'PCIP49', 'UGDS_MEN', 'UGNONDS', 'CIPCODE6',\n",
      "       'RET_PTL4', 'TUITIONFEE_PROG', 'TUITIONFEE_IN', 'UG', 'UGDS_HISP',\n",
      "       'UGDS_BLACK', 'RET_FT4', 'TUITIONFEE_OUT', 'CIPTFBSANNUAL6',\n",
      "       'UGDS_WHITE', 'NUM41_PRIV', 'NUM45_PUB', 'CIP54BACHL', 'NUM4_PUB'],\n",
      "      dtype='object')\n",
      "CPU times: user 11.1 s, sys: 161 ms, total: 11.3 s\n",
      "Wall time: 10.9 s\n"
     ]
    }
   ],
   "source": [
    "%%time\n",
    "print('Important Features for Private for Profit Colleges/Universities: ')\n",
    "train_features_priv_profit = list(df_priv_profit.columns)\n",
    "train_features_priv_profit.remove('debt_to_income')\n",
    "train_features_priv_profit.remove('UNITID')\n",
    "\n",
    "rf_priv_profit = fitRandomForestRegressor(df_priv_profit, train_features_priv_profit)\n",
    "top_features_priv_profit = getImportantFeatures(rf_priv_profit, df_priv_profit)\n",
    "print(top_features_priv_profit)"
   ]
  },
  {
   "cell_type": "code",
   "execution_count": null,
   "metadata": {},
   "outputs": [],
   "source": []
  },
  {
   "cell_type": "markdown",
   "metadata": {},
   "source": [
    "### Get OOB Score"
   ]
  },
  {
   "cell_type": "code",
   "execution_count": 15,
   "metadata": {},
   "outputs": [
    {
     "name": "stdout",
     "output_type": "stream",
     "text": [
      "0.7239250664183787\n",
      "0.5585438475154625\n",
      "0.4523158292716567\n"
     ]
    }
   ],
   "source": [
    "print(rf_pub.oob_score_)\n",
    "print(rf_priv.oob_score_)\n",
    "print(rf_priv_profit.oob_score_)\n"
   ]
  },
  {
   "cell_type": "markdown",
   "metadata": {},
   "source": [
    "### Predicting NYU Debt-to-Income"
   ]
  },
  {
   "cell_type": "code",
   "execution_count": 16,
   "metadata": {},
   "outputs": [
    {
     "name": "stdout",
     "output_type": "stream",
     "text": [
      "1996_97 0.23677045313192444\n",
      "1997_98 0.3258111810702706\n",
      "1998_99 0.23628855599376425\n",
      "1999_00 0.37184083429817333\n",
      "2000_01 0.3254975569828749\n",
      "2001_02 0.3844434049242784\n",
      "2002_03 0.38582770459337395\n",
      "2003_04 0.3952257047353098\n",
      "2004_05 0.39325823646323294\n",
      "2005_06 0.4004384784102026\n",
      "2006_07 0.38511836445230285\n",
      "2007_08 0.3994425087734293\n",
      "2008_09 0.38065129155463573\n",
      "2009_10 0.5323669602033303\n",
      "2010_11 0.4491835735588138\n",
      "2011_12 0.4374716623311143\n",
      "2012_13 0.4487419674664394\n",
      "2013_14 0.4332470373347848\n",
      "2014_15 0.45396142897045216\n",
      "2015_16 0.4524939153007201\n",
      "2016_17 0.4514922667382222\n",
      "2017_18 0.4302698069002164\n"
     ]
    }
   ],
   "source": [
    "\n",
    "nyu_data = {\n",
    "    'year': [],\n",
    "    'debt_to_income': [],\n",
    "    'prediction': []\n",
    "}\n",
    "\n",
    "years =[ \n",
    "    '1996_97',\n",
    "    '1997_98',\n",
    "    '1998_99',\n",
    "    '1999_00',\n",
    "    '2000_01',\n",
    "    '2001_02',\n",
    "    '2002_03',\n",
    "    '2003_04',\n",
    "    '2004_05',\n",
    "    '2005_06',\n",
    "    '2006_07',\n",
    "    '2007_08',\n",
    "    '2008_09',\n",
    "    '2009_10',\n",
    "    '2010_11',\n",
    "    '2011_12',\n",
    "    '2012_13',\n",
    "    '2013_14',\n",
    "    '2014_15',\n",
    "    '2015_16',\n",
    "    '2016_17',\n",
    "    '2017_18'\n",
    "]\n",
    "# for year in collegedatahelper.years_test:\n",
    "for year in years:\n",
    "    # Use the forest's predict method on the test data for each year\n",
    "    df_test = data_dict[year]['private']\n",
    "    df_test_nyu = df_test.loc[df_test['UNITID'] == 193900]\n",
    "    df_test_nyu_condensed = df_test_nyu[train_features_priv]\n",
    "    \n",
    "    predictions = rf_priv.predict(df_test_nyu_condensed.fillna(0))\n",
    "\n",
    "    if 'debt_to_income' in df_test_nyu.columns:\n",
    "        nyu_data['year'].append(year)\n",
    "        nyu_data['debt_to_income'].append(df_test_nyu['debt_to_income'].values[0])\n",
    "        nyu_data['prediction'].append(predictions[0])\n",
    "    else:\n",
    "        nyu_data['year'].append(year)\n",
    "        nyu_data['debt_to_income'].append(np.nan)\n",
    "        nyu_data['prediction'].append(predictions[0])\n",
    "    \n",
    "    print(year, predictions[0])\n",
    "# df_test.head()\n"
   ]
  },
  {
   "cell_type": "code",
   "execution_count": 17,
   "metadata": {},
   "outputs": [
    {
     "data": {
      "text/plain": [
       "{'year': ['1996_97',\n",
       "  '1997_98',\n",
       "  '1998_99',\n",
       "  '1999_00',\n",
       "  '2000_01',\n",
       "  '2001_02',\n",
       "  '2002_03',\n",
       "  '2003_04',\n",
       "  '2004_05',\n",
       "  '2005_06',\n",
       "  '2006_07',\n",
       "  '2007_08',\n",
       "  '2008_09',\n",
       "  '2009_10',\n",
       "  '2010_11',\n",
       "  '2011_12',\n",
       "  '2012_13',\n",
       "  '2013_14',\n",
       "  '2014_15',\n",
       "  '2015_16',\n",
       "  '2016_17',\n",
       "  '2017_18'],\n",
       " 'debt_to_income': [nan,\n",
       "  nan,\n",
       "  nan,\n",
       "  nan,\n",
       "  nan,\n",
       "  nan,\n",
       "  nan,\n",
       "  0.3315727699530516,\n",
       "  nan,\n",
       "  0.32376126126126126,\n",
       "  nan,\n",
       "  0.3032700421940928,\n",
       "  nan,\n",
       "  0.3541521739130435,\n",
       "  nan,\n",
       "  0.4335253456221198,\n",
       "  0.43333333333333335,\n",
       "  0.4166666666666667,\n",
       "  0.3936605316973415,\n",
       "  nan,\n",
       "  nan,\n",
       "  nan],\n",
       " 'prediction': [0.23677045313192444,\n",
       "  0.3258111810702706,\n",
       "  0.23628855599376425,\n",
       "  0.37184083429817333,\n",
       "  0.3254975569828749,\n",
       "  0.3844434049242784,\n",
       "  0.38582770459337395,\n",
       "  0.3952257047353098,\n",
       "  0.39325823646323294,\n",
       "  0.4004384784102026,\n",
       "  0.38511836445230285,\n",
       "  0.3994425087734293,\n",
       "  0.38065129155463573,\n",
       "  0.5323669602033303,\n",
       "  0.4491835735588138,\n",
       "  0.4374716623311143,\n",
       "  0.4487419674664394,\n",
       "  0.4332470373347848,\n",
       "  0.45396142897045216,\n",
       "  0.4524939153007201,\n",
       "  0.4514922667382222,\n",
       "  0.4302698069002164]}"
      ]
     },
     "execution_count": 17,
     "metadata": {},
     "output_type": "execute_result"
    }
   ],
   "source": [
    "nyu_data"
   ]
  },
  {
   "cell_type": "code",
   "execution_count": 18,
   "metadata": {},
   "outputs": [
    {
     "data": {
      "image/png": "[encoded data removed]",
      "text/plain": [
       "<Figure size 1080x360 with 1 Axes>"
      ]
     },
     "metadata": {
      "needs_background": "light"
     },
     "output_type": "display_data"
    }
   ],
   "source": [
    "df_nyu = pd.DataFrame(nyu_data)\n",
    "\n",
    "ax = df_nyu.plot.bar(\n",
    "    x='year',\n",
    "    title='NYU Debt-To-Income Prediction',\n",
    "    legend=False,\n",
    "    figsize=(15,5)\n",
    ")\n"
   ]
  },
  {
   "cell_type": "code",
   "execution_count": 19,
   "metadata": {},
   "outputs": [
    {
     "data": {
      "image/png": "[encoded data removed]",
      "text/plain": [
       "<Figure size 1080x360 with 1 Axes>"
      ]
     },
     "metadata": {
      "needs_background": "light"
     },
     "output_type": "display_data"
    }
   ],
   "source": [
    "ax = df_nyu[['year', 'debt_to_income']].plot.bar(\n",
    "    x='year',\n",
    "    title='NYU Debt-To-Income Prediction',\n",
    "    legend=False,\n",
    "    figsize=(15,5)\n",
    ")\n"
   ]
  },
  {
   "cell_type": "markdown",
   "metadata": {},
   "source": [
    "## Predicting Debt-to-Income for other schools"
   ]
  },
  {
   "cell_type": "code",
   "execution_count": 20,
   "metadata": {},
   "outputs": [],
   "source": [
    "def predict(uuid):\n",
    "    data = {\n",
    "        'year': [],\n",
    "        'debt_to_income': [],\n",
    "        'prediction': []\n",
    "    }\n",
    "\n",
    "    years =[ \n",
    "        '1996_97',\n",
    "        '1997_98',\n",
    "        '1998_99',\n",
    "        '1999_00',\n",
    "        '2000_01',\n",
    "        '2001_02',\n",
    "        '2002_03',\n",
    "        '2003_04',\n",
    "        '2004_05',\n",
    "        '2005_06',\n",
    "        '2006_07',\n",
    "        '2007_08',\n",
    "        '2008_09',\n",
    "        '2009_10',\n",
    "        '2010_11',\n",
    "        '2011_12',\n",
    "        '2012_13',\n",
    "        '2013_14',\n",
    "        '2014_15',\n",
    "        '2015_16',\n",
    "        '2016_17',\n",
    "        '2017_18'\n",
    "    ]\n",
    "\n",
    "    for year in years:\n",
    "        # Use the forest's predict method on the test data for each year\n",
    "        df_test = data_dict[year]['private']\n",
    "        df_test_school = df_test.loc[df_test['UNITID'] == uuid]\n",
    "        df_test_school_condensed = df_test_school[train_features_priv]\n",
    "\n",
    "        predictions = rf_priv.predict(df_test_school_condensed.fillna(0))\n",
    "\n",
    "        if 'debt_to_income' in df_test_school.columns:\n",
    "            data['year'].append(year)\n",
    "            data['debt_to_income'].append(df_test_school['debt_to_income'].values[0])\n",
    "            data['prediction'].append(predictions[0])\n",
    "        else:\n",
    "            data['year'].append(year)\n",
    "            data['debt_to_income'].append(np.nan)\n",
    "            data['prediction'].append(predictions[0])\n",
    "        \n",
    "    df_school = pd.DataFrame(data)\n",
    "\n",
    "    ax = df_nyu.plot.bar(\n",
    "        x='year',\n",
    "        title = str(uuid) + ' Debt-To-Income Prediction',\n",
    "        legend=False,\n",
    "        figsize=(15,5)\n",
    "    )\n",
    "#         print(year, predictions[0])\n",
    "# df_test.head()"
   ]
  },
  {
   "cell_type": "code",
   "execution_count": 21,
   "metadata": {
    "scrolled": true
   },
   "outputs": [
    {
     "data": {
      "image/png": "[encoded data removed]",
      "text/plain": [
       "<Figure size 1080x360 with 1 Axes>"
      ]
     },
     "metadata": {
      "needs_background": "light"
     },
     "output_type": "display_data"
    }
   ],
   "source": [
    "# University of Pennsylvania\n",
    "predict(215062)"
   ]
  },
  {
   "cell_type": "code",
   "execution_count": 22,
   "metadata": {},
   "outputs": [
    {
     "data": {
      "image/png": "[encoded data removed]",
      "text/plain": [
       "<Figure size 1080x360 with 1 Axes>"
      ]
     },
     "metadata": {
      "needs_background": "light"
     },
     "output_type": "display_data"
    }
   ],
   "source": [
    "# Boston University\n",
    "predict(164988)"
   ]
  },
  {
   "cell_type": "code",
   "execution_count": 23,
   "metadata": {},
   "outputs": [],
   "source": [
    "# University of Iowa\n",
    "# predict(153658)"
   ]
  },
  {
   "cell_type": "code",
   "execution_count": null,
   "metadata": {},
   "outputs": [],
   "source": []
  }
 ],
 "metadata": {
  "colab": {
   "collapsed_sections": [],
   "include_colab_link": true,
   "name": "Untitled0.ipynb",
   "provenance": []
  },
  "kernelspec": {
   "display_name": "Python 3",
   "language": "python",
   "name": "python3"
  },
  "language_info": {
   "codemirror_mode": {
    "name": "ipython",
    "version": 3
   },
   "file_extension": ".py",
   "mimetype": "text/x-python",
   "name": "python",
   "nbconvert_exporter": "python",
   "pygments_lexer": "ipython3",
   "version": "3.7.4"
  }
 },
 "nbformat": 4,
 "nbformat_minor": 1
}
