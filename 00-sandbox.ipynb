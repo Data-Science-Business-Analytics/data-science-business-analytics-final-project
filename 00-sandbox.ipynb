{
 "cells": [
  {
   "cell_type": "markdown",
   "metadata": {
    "colab_type": "text",
    "id": "VDi8LeBuhFEs"
   },
   "source": [
    "# Data Science Final Project\n",
    "Charles Laurent, Jenny Park, AJ Marino\n",
    "\n",
    "## Sandbox"
   ]
  },
  {
   "cell_type": "code",
   "execution_count": 1,
   "metadata": {},
   "outputs": [],
   "source": [
    "%matplotlib inline\n",
    "import matplotlib.pyplot as plt\n",
    "import pandas as pd\n",
    "import numpy as np\n",
    "\n",
    "from sklearn import metrics"
   ]
  },
  {
   "cell_type": "code",
   "execution_count": 2,
   "metadata": {},
   "outputs": [
    {
     "data": {
      "text/html": [
       "<style>.container { width:96% !important; }</style>"
      ],
      "text/plain": [
       "<IPython.core.display.HTML object>"
      ]
     },
     "metadata": {},
     "output_type": "display_data"
    }
   ],
   "source": [
    "from IPython.core.display import display, HTML\n",
    "display(HTML(\"<style>.container { width:96% !important; }</style>\"))\n",
    "\n",
    "pd.set_option('display.max_columns', None)"
   ]
  },
  {
   "cell_type": "code",
   "execution_count": 3,
   "metadata": {},
   "outputs": [],
   "source": [
    "# TODO - Update path to files\n",
    "datadir='../dev/project/CollegeScorecard_Raw_Data'\n",
    "\n",
    "# TODO set features_dir \n",
    "features_dir = './data'\n"
   ]
  },
  {
   "cell_type": "code",
   "execution_count": null,
   "metadata": {},
   "outputs": [],
   "source": []
  },
  {
   "cell_type": "code",
   "execution_count": 4,
   "metadata": {},
   "outputs": [],
   "source": [
    "# import collegedatalib\n",
    "import collegedatahelper"
   ]
  },
  {
   "cell_type": "code",
   "execution_count": 5,
   "metadata": {},
   "outputs": [
    {
     "name": "stdout",
     "output_type": "stream",
     "text": [
      "CPU times: user 1min 47s, sys: 14.3 s, total: 2min 1s\n",
      "Wall time: 2min 6s\n"
     ]
    }
   ],
   "source": [
    "%%time\n",
    "data_dict = collegedatahelper.create_data_dict_full(datadir)"
   ]
  },
  {
   "cell_type": "code",
   "execution_count": 6,
   "metadata": {},
   "outputs": [],
   "source": [
    "df = data_dict['2012_13']\n",
    "df_13 = data_dict['2013_14']\n",
    "df_new = data_dict['2017_18']"
   ]
  },
  {
   "cell_type": "code",
   "execution_count": 30,
   "metadata": {},
   "outputs": [],
   "source": [
    "def getNyuDTI(df):\n",
    "    nyu = df[df['INSTNM'] == 'New York University']\n",
    "#     print(nyu['debt_to_income'].shape[0])\n",
    "    if nyu['debt_to_income'].shape[0]:\n",
    "        return nyu['debt_to_income'].values[0]\n",
    "    else:\n",
    "        return np.nan"
   ]
  },
  {
   "cell_type": "code",
   "execution_count": 31,
   "metadata": {},
   "outputs": [
    {
     "data": {
      "text/plain": [
       "0.43333333333333335"
      ]
     },
     "execution_count": 31,
     "metadata": {},
     "output_type": "execute_result"
    }
   ],
   "source": [
    "getNyuDTI(df)"
   ]
  },
  {
   "cell_type": "code",
   "execution_count": 90,
   "metadata": {},
   "outputs": [],
   "source": [
    "nyu_data = {\n",
    "    'year': [],\n",
    "    'debt_to_income': []\n",
    "}\n",
    "\n",
    "for year in collegedatahelper.years_train_all:\n",
    "    dti = getNyuDTI(data_dict[year])\n",
    "#     if dti:\n",
    "    nyu_data['year'].append(year)\n",
    "    nyu_data['debt_to_income'].append(dti)\n",
    "    \n",
    "for year in collegedatahelper.years_test:\n",
    "    nyu_data['year'].append(year)\n",
    "    nyu_data['debt_to_income'].append(np.nan)\n",
    "\n",
    "    "
   ]
  },
  {
   "cell_type": "code",
   "execution_count": 91,
   "metadata": {},
   "outputs": [
    {
     "data": {
      "text/html": [
       "<div>\n",
       "<style scoped>\n",
       "    .dataframe tbody tr th:only-of-type {\n",
       "        vertical-align: middle;\n",
       "    }\n",
       "\n",
       "    .dataframe tbody tr th {\n",
       "        vertical-align: top;\n",
       "    }\n",
       "\n",
       "    .dataframe thead th {\n",
       "        text-align: right;\n",
       "    }\n",
       "</style>\n",
       "<table border=\"1\" class=\"dataframe\">\n",
       "  <thead>\n",
       "    <tr style=\"text-align: right;\">\n",
       "      <th></th>\n",
       "      <th>year</th>\n",
       "      <th>debt_to_income</th>\n",
       "    </tr>\n",
       "  </thead>\n",
       "  <tbody>\n",
       "    <tr>\n",
       "      <td>0</td>\n",
       "      <td>2003_04</td>\n",
       "      <td>0.331573</td>\n",
       "    </tr>\n",
       "    <tr>\n",
       "      <td>1</td>\n",
       "      <td>2004_05</td>\n",
       "      <td>NaN</td>\n",
       "    </tr>\n",
       "    <tr>\n",
       "      <td>2</td>\n",
       "      <td>2005_06</td>\n",
       "      <td>0.323761</td>\n",
       "    </tr>\n",
       "    <tr>\n",
       "      <td>3</td>\n",
       "      <td>2006_07</td>\n",
       "      <td>NaN</td>\n",
       "    </tr>\n",
       "    <tr>\n",
       "      <td>4</td>\n",
       "      <td>2007_08</td>\n",
       "      <td>0.303270</td>\n",
       "    </tr>\n",
       "    <tr>\n",
       "      <td>5</td>\n",
       "      <td>2008_09</td>\n",
       "      <td>NaN</td>\n",
       "    </tr>\n",
       "    <tr>\n",
       "      <td>6</td>\n",
       "      <td>2009_10</td>\n",
       "      <td>0.354152</td>\n",
       "    </tr>\n",
       "    <tr>\n",
       "      <td>7</td>\n",
       "      <td>2010_11</td>\n",
       "      <td>NaN</td>\n",
       "    </tr>\n",
       "    <tr>\n",
       "      <td>8</td>\n",
       "      <td>2011_12</td>\n",
       "      <td>0.433525</td>\n",
       "    </tr>\n",
       "    <tr>\n",
       "      <td>9</td>\n",
       "      <td>2012_13</td>\n",
       "      <td>0.433333</td>\n",
       "    </tr>\n",
       "    <tr>\n",
       "      <td>10</td>\n",
       "      <td>2013_14</td>\n",
       "      <td>0.416667</td>\n",
       "    </tr>\n",
       "    <tr>\n",
       "      <td>11</td>\n",
       "      <td>2014_15</td>\n",
       "      <td>0.393661</td>\n",
       "    </tr>\n",
       "  </tbody>\n",
       "</table>\n",
       "</div>"
      ],
      "text/plain": [
       "       year  debt_to_income\n",
       "0   2003_04        0.331573\n",
       "1   2004_05             NaN\n",
       "2   2005_06        0.323761\n",
       "3   2006_07             NaN\n",
       "4   2007_08        0.303270\n",
       "5   2008_09             NaN\n",
       "6   2009_10        0.354152\n",
       "7   2010_11             NaN\n",
       "8   2011_12        0.433525\n",
       "9   2012_13        0.433333\n",
       "10  2013_14        0.416667\n",
       "11  2014_15        0.393661"
      ]
     },
     "execution_count": 91,
     "metadata": {},
     "output_type": "execute_result"
    }
   ],
   "source": [
    "df_nyu"
   ]
  },
  {
   "cell_type": "code",
   "execution_count": 92,
   "metadata": {},
   "outputs": [
    {
     "data": {
      "image/png": "[encoded data removed]",
      "text/plain": [
       "<Figure size 432x288 with 1 Axes>"
      ]
     },
     "metadata": {
      "needs_background": "light"
     },
     "output_type": "display_data"
    }
   ],
   "source": [
    "df_nyu = pd.DataFrame(nyu_data)\n",
    "\n",
    "ax = df_nyu.plot.bar(\n",
    "    x='year',\n",
    "    y='debt_to_income',\n",
    "    title='NYU Debt-To-Income',\n",
    "    legend=False\n",
    ")"
   ]
  },
  {
   "cell_type": "code",
   "execution_count": 93,
   "metadata": {},
   "outputs": [],
   "source": [
    "df_nyu_pred = df_nyu.copy()\n",
    "df_nyu_pred['prediction'] = df_nyu_pred['debt_to_income']\n",
    "\n",
    "mean = df_nyu_pred['debt_to_income'].mean()\n",
    "\n",
    "df_nyu_pred['prediction'] = df_nyu_pred['prediction'].fillna(mean)\n",
    "df_nyu_pred['prediction'] = df_nyu_pred['prediction'].loc[df_nyu_pred['debt_to_income'].isna()]"
   ]
  },
  {
   "cell_type": "code",
   "execution_count": 101,
   "metadata": {},
   "outputs": [
    {
     "data": {
      "image/png": "[encoded data removed]",
      "text/plain": [
       "<Figure size 432x288 with 1 Axes>"
      ]
     },
     "metadata": {
      "needs_background": "light"
     },
     "output_type": "display_data"
    }
   ],
   "source": [
    "ax = df_nyu_pred.plot.bar(\n",
    "    x='year',\n",
    "    title='NYU Debt-To-Income Prediction',\n",
    "    legend=False\n",
    ")"
   ]
  },
  {
   "cell_type": "code",
   "execution_count": 102,
   "metadata": {},
   "outputs": [
    {
     "data": {
      "text/plain": [
       "<matplotlib.axes._subplots.AxesSubplot at 0x1a31024fd0>"
      ]
     },
     "execution_count": 102,
     "metadata": {},
     "output_type": "execute_result"
    },
    {
     "data": {
      "image/png": "[encoded data removed]",
      "text/plain": [
       "<Figure size 432x288 with 1 Axes>"
      ]
     },
     "metadata": {
      "needs_background": "light"
     },
     "output_type": "display_data"
    }
   ],
   "source": [
    "df['debt_to_income'].hist(bins=20)"
   ]
  },
  {
   "cell_type": "markdown",
   "metadata": {},
   "source": [
    "## Debt to Income vs. School Type"
   ]
  },
  {
   "cell_type": "code",
   "execution_count": 156,
   "metadata": {},
   "outputs": [],
   "source": [
    "data = {\n",
    "    '1-public': df.loc[df['CONTROL'] == 1]['debt_to_income'],\n",
    "    '2-private': df.loc[df['CONTROL'] == 2]['debt_to_income'],\n",
    "    '3-private_profit': df.loc[df['CONTROL'] == 3]['debt_to_income']\n",
    "}\n",
    "df_type = pd.DataFrame(data)"
   ]
  },
  {
   "cell_type": "code",
   "execution_count": 157,
   "metadata": {},
   "outputs": [
    {
     "data": {
      "image/png": "[encoded data removed]",
      "text/plain": [
       "<Figure size 1440x288 with 3 Axes>"
      ]
     },
     "metadata": {
      "needs_background": "light"
     },
     "output_type": "display_data"
    }
   ],
   "source": [
    "bins = 50\n",
    "ax = df_type.hist(\n",
    "    bins=bins, \n",
    "    grid=False, \n",
    "    figsize=(20,4), \n",
    "    layout=(1,3), \n",
    "    sharex=True,\n",
    "#     color='#86bf91', \n",
    "#     zorder=2, \n",
    "    rwidth=0.9\n",
    ")\n",
    "ax = ax[0]\n",
    "for x in ax:\n",
    "    x.set_xlabel('Debt to Income')\n"
   ]
  },
  {
   "cell_type": "markdown",
   "metadata": {},
   "source": [
    "## Debt Level - Household income level"
   ]
  },
  {
   "cell_type": "code",
   "execution_count": 8,
   "metadata": {},
   "outputs": [],
   "source": [
    "# df.loc[df['CONTROL'] == 1]"
   ]
  },
  {
   "cell_type": "code",
   "execution_count": 10,
   "metadata": {},
   "outputs": [],
   "source": [
    "# DEBT_N\n",
    "# GRAD_DEBT_N\n",
    "# WDRAW_DEBT_N\n",
    "\n",
    "# LO_INC_DEBT_N\n",
    "# MD_INC_DEBT_N\n",
    "# HI_INC_DEBT_N\n",
    "\n",
    "# FEMALE_DEBT_N\n",
    "# MALE_DEBT_N"
   ]
  },
  {
   "cell_type": "code",
   "execution_count": 153,
   "metadata": {},
   "outputs": [],
   "source": [
    "data = {\n",
    "    '1-LO_INC_DEBT_N': df_pub['LO_INC_DEBT_N'],\n",
    "    '2-MD_INC_DEBT_N': df_pub['MD_INC_DEBT_N'],\n",
    "    '3-HI_INC_DEBT_N': df_pub['HI_INC_DEBT_N']\n",
    "}\n",
    "df_debt_income = pd.DataFrame(data)"
   ]
  },
  {
   "cell_type": "code",
   "execution_count": 155,
   "metadata": {},
   "outputs": [
    {
     "data": {
      "image/png": "[encoded data removed]",
      "text/plain": [
       "<Figure size 1440x288 with 3 Axes>"
      ]
     },
     "metadata": {
      "needs_background": "light"
     },
     "output_type": "display_data"
    }
   ],
   "source": [
    "bins = 20\n",
    "ax = df_debt_income.hist(\n",
    "#     column=['LO_INC_DEBT_N', 'MD_INC_DEBT_N', 'HI_INC_DEBT_N'],\n",
    "    bins=bins, \n",
    "    grid=False, \n",
    "    figsize=(20,4), \n",
    "    layout=(1,3), \n",
    "    sharex=True,\n",
    "    range=(0,15000),\n",
    "    rwidth=0.9\n",
    ")\n",
    "ax = ax[0]\n",
    "for x in ax:\n",
    "    x.set_xlabel('Average Debt ($)')\n"
   ]
  },
  {
   "cell_type": "code",
   "execution_count": 137,
   "metadata": {},
   "outputs": [],
   "source": [
    "# # df_pub.hist(column='LO_INC_DEBT_N')\n",
    "# # df_pub.hist(column='MD_INC_DEBT_N')\n",
    "# # df_pub.hist(column='HI_INC_DEBT_N')\n",
    "\n",
    "\n",
    "# data = {\n",
    "#     'LO_INC_DEBT_N': df_pub['LO_INC_DEBT_N'],\n",
    "#     'MD_INC_DEBT_N': df_pub['MD_INC_DEBT_N'],\n",
    "#     'HI_INC_DEBT_N': df_pub['HI_INC_DEBT_N']\n",
    "# }\n",
    "# df_debt = pd.DataFrame(data)\n",
    "# # df_debt = pd.DataFrame(\n",
    "# #     [df_pub['LO_INC_DEBT_N'], \n",
    "# #     df_pub['MD_INC_DEBT_N'], \n",
    "# #     df_pub['HI_INC_DEBT_N']]\n",
    "# # )\n",
    "\n",
    "# bins = 50\n",
    "\n",
    "# # df_debt.head()\n",
    "\n",
    "# # df_debt.hist()\n",
    "# ax = df_debt.plot.hist(bins=bins, histtype='step')\n"
   ]
  },
  {
   "cell_type": "code",
   "execution_count": null,
   "metadata": {},
   "outputs": [],
   "source": [
    "df_pub.hist(column='GRAD_DEBT_N')"
   ]
  },
  {
   "cell_type": "code",
   "execution_count": null,
   "metadata": {},
   "outputs": [],
   "source": [
    "df_pub.hist(column='WDRAW_DEBT_N')"
   ]
  },
  {
   "cell_type": "code",
   "execution_count": null,
   "metadata": {},
   "outputs": [],
   "source": []
  },
  {
   "cell_type": "code",
   "execution_count": null,
   "metadata": {},
   "outputs": [],
   "source": []
  },
  {
   "cell_type": "code",
   "execution_count": null,
   "metadata": {},
   "outputs": [],
   "source": [
    "df_pub.hist(column='NPT4_PUB')"
   ]
  },
  {
   "cell_type": "code",
   "execution_count": null,
   "metadata": {},
   "outputs": [],
   "source": [
    "df_priv.hist(column='NPT4_PRIV')"
   ]
  },
  {
   "cell_type": "code",
   "execution_count": null,
   "metadata": {},
   "outputs": [],
   "source": [
    "df_priv_profit.hist(column='NPT4_PRIV')"
   ]
  },
  {
   "cell_type": "code",
   "execution_count": null,
   "metadata": {},
   "outputs": [],
   "source": []
  },
  {
   "cell_type": "code",
   "execution_count": null,
   "metadata": {},
   "outputs": [],
   "source": [
    "# train_features['DEBT_N']"
   ]
  },
  {
   "cell_type": "code",
   "execution_count": null,
   "metadata": {},
   "outputs": [],
   "source": []
  },
  {
   "cell_type": "code",
   "execution_count": null,
   "metadata": {},
   "outputs": [],
   "source": []
  },
  {
   "cell_type": "code",
   "execution_count": null,
   "metadata": {},
   "outputs": [],
   "source": [
    "# Import the model we are using\n",
    "from sklearn.ensemble import RandomForestRegressor\n",
    "# Instantiate model with 1000 decision trees\n",
    "rf = RandomForestRegressor(n_estimators = 1000, random_state = 42)\n",
    "# Train the model on training data\n",
    "# rf.fit(train_features, train_labels);\n"
   ]
  },
  {
   "cell_type": "code",
   "execution_count": null,
   "metadata": {},
   "outputs": [],
   "source": []
  },
  {
   "cell_type": "code",
   "execution_count": null,
   "metadata": {},
   "outputs": [],
   "source": [
    "train_labels = []\n",
    "\n",
    "for col in df_pub.columns:\n",
    "    if df_pub[col].dtypes != 'object':\n",
    "        train_labels.append(col)"
   ]
  },
  {
   "cell_type": "code",
   "execution_count": null,
   "metadata": {},
   "outputs": [],
   "source": [
    "# train_labels"
   ]
  },
  {
   "cell_type": "code",
   "execution_count": null,
   "metadata": {},
   "outputs": [],
   "source": [
    "train_labels.remove('UNITID')\n",
    "train_labels.remove('OPEID')\n",
    "train_labels.remove('OPEID6')\n"
   ]
  },
  {
   "cell_type": "code",
   "execution_count": null,
   "metadata": {},
   "outputs": [],
   "source": [
    "train_features = df_pub.copy()[train_labels]"
   ]
  },
  {
   "cell_type": "code",
   "execution_count": null,
   "metadata": {},
   "outputs": [],
   "source": [
    "train_features"
   ]
  },
  {
   "cell_type": "code",
   "execution_count": null,
   "metadata": {},
   "outputs": [],
   "source": [
    "target = train_features['DEBT_N']\n",
    "\n",
    "# train_features_array = train_features.iloc[:, : 400]\n",
    "train_features_array = train_features"
   ]
  },
  {
   "cell_type": "code",
   "execution_count": null,
   "metadata": {},
   "outputs": [],
   "source": [
    "# Train the model on training data\n",
    "rf.fit(train_features_array, target)\n"
   ]
  },
  {
   "cell_type": "code",
   "execution_count": null,
   "metadata": {},
   "outputs": [],
   "source": [
    "rf.feature_importances_"
   ]
  },
  {
   "cell_type": "code",
   "execution_count": null,
   "metadata": {},
   "outputs": [],
   "source": [
    "train_features_array.columns"
   ]
  },
  {
   "cell_type": "code",
   "execution_count": null,
   "metadata": {},
   "outputs": [],
   "source": [
    "important_features_dict = {}\n",
    "for x,i in enumerate(rf.feature_importances_):\n",
    "    important_features_dict[x]=i\n",
    "\n",
    "\n",
    "important_features_list = sorted(important_features_dict,\n",
    "                                 key=important_features_dict.get,\n",
    "                                 reverse=True)\n",
    "\n",
    "# important_features_list"
   ]
  },
  {
   "cell_type": "code",
   "execution_count": null,
   "metadata": {},
   "outputs": [],
   "source": [
    "top_features = train_features_array.columns[important_features_list]"
   ]
  },
  {
   "cell_type": "code",
   "execution_count": null,
   "metadata": {},
   "outputs": [],
   "source": [
    "top_features[:20]"
   ]
  },
  {
   "cell_type": "code",
   "execution_count": null,
   "metadata": {},
   "outputs": [],
   "source": []
  },
  {
   "cell_type": "code",
   "execution_count": null,
   "metadata": {},
   "outputs": [],
   "source": []
  },
  {
   "cell_type": "code",
   "execution_count": null,
   "metadata": {},
   "outputs": [],
   "source": []
  },
  {
   "cell_type": "code",
   "execution_count": null,
   "metadata": {},
   "outputs": [],
   "source": []
  },
  {
   "cell_type": "code",
   "execution_count": null,
   "metadata": {},
   "outputs": [],
   "source": []
  },
  {
   "cell_type": "code",
   "execution_count": null,
   "metadata": {},
   "outputs": [],
   "source": [
    "features_dir = './data'"
   ]
  },
  {
   "cell_type": "code",
   "execution_count": null,
   "metadata": {},
   "outputs": [],
   "source": [
    "# features_df = pd.read_csv(f'{features_dir}/dictionary.csv', low_memory=False)[['VARIABLE NAME', 'dev-category', 'API data type', 'NAME OF DATA ELEMENT']]\n",
    "features_df = collegedatahelper.get_features_dictionary(features_dir)\n"
   ]
  },
  {
   "cell_type": "code",
   "execution_count": null,
   "metadata": {},
   "outputs": [],
   "source": [
    "features_df['dev-category'].unique()"
   ]
  },
  {
   "cell_type": "code",
   "execution_count": null,
   "metadata": {},
   "outputs": [],
   "source": []
  },
  {
   "cell_type": "code",
   "execution_count": null,
   "metadata": {},
   "outputs": [],
   "source": [
    "# train_feature_categories = [\n",
    "#     'admissions',\n",
    "#     'academics',\n",
    "#     'student',\n",
    "#     'cost'\n",
    "# ]\n",
    "train_feature_categories = collegedatahelper.train_feature_categories"
   ]
  },
  {
   "cell_type": "code",
   "execution_count": null,
   "metadata": {},
   "outputs": [],
   "source": [
    "train_features = collegedatahelper.getTrainFeatures(features_df)\n",
    "\n",
    "len(train_features)"
   ]
  },
  {
   "cell_type": "code",
   "execution_count": null,
   "metadata": {},
   "outputs": [],
   "source": [
    "df_blah = collegedatahelper.format_df(df, True)\n",
    "\n",
    "df_blah_13 = collegedatahelper.format_df(df_13, True)"
   ]
  },
  {
   "cell_type": "code",
   "execution_count": null,
   "metadata": {},
   "outputs": [],
   "source": [
    "df_blah['debt_to_income'].hist(bins=20)\n"
   ]
  },
  {
   "cell_type": "code",
   "execution_count": null,
   "metadata": {},
   "outputs": [],
   "source": [
    "df_blah_13['debt_to_income'].hist(bins=20)"
   ]
  },
  {
   "cell_type": "code",
   "execution_count": null,
   "metadata": {},
   "outputs": [],
   "source": []
  },
  {
   "cell_type": "code",
   "execution_count": null,
   "metadata": {},
   "outputs": [],
   "source": [
    "# CONTROL \n",
    "# 1 - Public\n",
    "# 2 - Private non-profit\n",
    "# 3 - Private for-profit\n",
    "df_pub_blah = df_blah_13.loc[df_blah_13['CONTROL'] == 1]\n",
    "df_priv_blah = df_blah_13.loc[df_blah_13['CONTROL'] == 2]\n",
    "df_priv_profit_blah = df_blah_13.loc[df_blah_13['CONTROL'] == 3]"
   ]
  },
  {
   "cell_type": "code",
   "execution_count": null,
   "metadata": {},
   "outputs": [],
   "source": [
    "df_pub_blah.shape"
   ]
  },
  {
   "cell_type": "code",
   "execution_count": null,
   "metadata": {},
   "outputs": [],
   "source": [
    "# TODO CL - should create a function for this!!!!\n",
    "\n",
    "rows = df_pub_blah.shape[0]\n",
    "df_pub_blah = df_pub_blah.dropna(axis=1, thresh=rows*0.7)\n",
    "\n",
    "df_pub_blah = df_pub_blah.dropna(axis=0) \n",
    "\n"
   ]
  },
  {
   "cell_type": "code",
   "execution_count": null,
   "metadata": {},
   "outputs": [],
   "source": [
    "def intersection(lst1, lst2): \n",
    "    lst3 = [value for value in lst1 if value in lst2] \n",
    "    return lst3 \n"
   ]
  },
  {
   "cell_type": "code",
   "execution_count": null,
   "metadata": {},
   "outputs": [],
   "source": [
    "train_features_true = intersection(df_pub_blah.columns, train_features)"
   ]
  },
  {
   "cell_type": "code",
   "execution_count": null,
   "metadata": {},
   "outputs": [],
   "source": [
    "# Import the model we are using\n",
    "from sklearn.ensemble import RandomForestRegressor\n",
    "# Instantiate model with 1000 decision trees\n",
    "rf2 = RandomForestRegressor(n_estimators = 1000, random_state = 42)\n",
    "# Train the model on training data\n"
   ]
  },
  {
   "cell_type": "code",
   "execution_count": null,
   "metadata": {},
   "outputs": [],
   "source": [
    "rf2.fit(df_pub_blah[train_features_true], df_pub_blah['debt_to_income'])"
   ]
  },
  {
   "cell_type": "code",
   "execution_count": null,
   "metadata": {},
   "outputs": [],
   "source": [
    "important_features_dict = {}\n",
    "for x,i in enumerate(rf2.feature_importances_):\n",
    "    important_features_dict[x]=i\n",
    "\n",
    "\n",
    "important_features_list = sorted(important_features_dict,\n",
    "                                 key=important_features_dict.get,\n",
    "                                 reverse=True)"
   ]
  },
  {
   "cell_type": "code",
   "execution_count": null,
   "metadata": {},
   "outputs": [],
   "source": [
    "top_features = train_features_array.columns[important_features_list]"
   ]
  },
  {
   "cell_type": "code",
   "execution_count": null,
   "metadata": {},
   "outputs": [],
   "source": [
    "top_features[:20]"
   ]
  },
  {
   "cell_type": "code",
   "execution_count": null,
   "metadata": {},
   "outputs": [],
   "source": []
  }
 ],
 "metadata": {
  "colab": {
   "collapsed_sections": [],
   "include_colab_link": true,
   "name": "Untitled0.ipynb",
   "provenance": []
  },
  "kernelspec": {
   "display_name": "Python 3",
   "language": "python",
   "name": "python3"
  },
  "language_info": {
   "codemirror_mode": {
    "name": "ipython",
    "version": 3
   },
   "file_extension": ".py",
   "mimetype": "text/x-python",
   "name": "python",
   "nbconvert_exporter": "python",
   "pygments_lexer": "ipython3",
   "version": "3.7.4"
  }
 },
 "nbformat": 4,
 "nbformat_minor": 1
}
