{
 "cells": [
  {
   "cell_type": "markdown",
   "metadata": {
    "colab_type": "text",
    "id": "VDi8LeBuhFEs"
   },
   "source": [
    "# Data Science Final Project\n",
    "Charles Laurent, Jenny Park, AJ Marino\n",
    "\n",
    "## Part 1a - Random Forest Regressor - FULL DATA"
   ]
  },
  {
   "cell_type": "code",
   "execution_count": 1,
   "metadata": {},
   "outputs": [],
   "source": [
    "%matplotlib inline\n",
    "import matplotlib.pyplot as plt\n",
    "import pandas as pd\n",
    "import numpy as np\n",
    "\n",
    "from sklearn import metrics\n",
    "# Import the model we are using\n",
    "from sklearn.ensemble import RandomForestRegressor"
   ]
  },
  {
   "cell_type": "code",
   "execution_count": 2,
   "metadata": {},
   "outputs": [
    {
     "data": {
      "text/html": [
       "<style>.container { width:96% !important; }</style>"
      ],
      "text/plain": [
       "<IPython.core.display.HTML object>"
      ]
     },
     "metadata": {},
     "output_type": "display_data"
    }
   ],
   "source": [
    "from IPython.core.display import display, HTML\n",
    "display(HTML(\"<style>.container { width:96% !important; }</style>\"))\n",
    "\n",
    "pd.set_option('display.max_columns', None)"
   ]
  },
  {
   "cell_type": "code",
   "execution_count": 3,
   "metadata": {},
   "outputs": [],
   "source": [
    "# TODO - Update path to files\n",
    "datadir='../dev/project/CollegeScorecard_Raw_Data'\n",
    "\n",
    "# TODO set features_dir \n",
    "features_dir = './data'\n"
   ]
  },
  {
   "cell_type": "code",
   "execution_count": null,
   "metadata": {},
   "outputs": [],
   "source": []
  },
  {
   "cell_type": "code",
   "execution_count": 4,
   "metadata": {},
   "outputs": [],
   "source": [
    "# import collegedatalib\n",
    "import collegedatahelper"
   ]
  },
  {
   "cell_type": "code",
   "execution_count": 5,
   "metadata": {},
   "outputs": [
    {
     "name": "stdout",
     "output_type": "stream",
     "text": [
      "CPU times: user 3min 12s, sys: 26 s, total: 3min 38s\n",
      "Wall time: 3min 39s\n"
     ]
    }
   ],
   "source": [
    "%%time\n",
    "data_dict = collegedatahelper.create_data_dict_full(datadir)"
   ]
  },
  {
   "cell_type": "code",
   "execution_count": 20,
   "metadata": {},
   "outputs": [
    {
     "name": "stdout",
     "output_type": "stream",
     "text": [
      "CPU times: user 59.1 s, sys: 38.4 s, total: 1min 37s\n",
      "Wall time: 1min 4s\n"
     ]
    }
   ],
   "source": [
    "%%time\n",
    "\n",
    "dictionary = data_dict.copy()\n",
    "full_df = pd.DataFrame()\n",
    "\n",
    "for year in data_dict:\n",
    "    dictionary[year]['year'] = year[:4]\n",
    "    full_df = full_df.append(dictionary[year], sort=False)\n"
   ]
  },
  {
   "cell_type": "code",
   "execution_count": 7,
   "metadata": {},
   "outputs": [],
   "source": [
    "def format_df(df):\n",
    "    df_copy = df.copy()\n",
    "\n",
    "    # Drop all columns with less than 95% not nan\n",
    "    rows = df_copy.shape[0]\n",
    "    df_copy = df_copy.apply(pd.to_numeric, errors='coerce')\n",
    "    df_copy = df_copy.dropna(axis=1, thresh=rows*0.9)\n",
    "\n",
    "    # Add back debt_to_income\n",
    "    df_copy['debt_to_income'] = df['debt_to_income']\n",
    "\n",
    "    # Drop all rows with nan\n",
    "    df_copy = df_copy.dropna(axis=0)\n",
    "    \n",
    "    return df_copy"
   ]
  },
  {
   "cell_type": "code",
   "execution_count": 8,
   "metadata": {},
   "outputs": [
    {
     "name": "stdout",
     "output_type": "stream",
     "text": [
      "CPU times: user 31.4 s, sys: 13.7 s, total: 45.1 s\n",
      "Wall time: 42.8 s\n"
     ]
    }
   ],
   "source": [
    "%%time\n",
    "# CONTROL \n",
    "# 1 - Public\n",
    "# 2 - Private non-profit\n",
    "# 3 - Private for-profit\n",
    "df_pub = format_df(full_df.loc[full_df['CONTROL'] == 1])\n",
    "df_priv = format_df(full_df.loc[full_df['CONTROL'] == 2])\n",
    "df_priv_profit = format_df(full_df.loc[full_df['CONTROL'] == 3])"
   ]
  },
  {
   "cell_type": "code",
   "execution_count": 9,
   "metadata": {},
   "outputs": [
    {
     "data": {
      "text/plain": [
       "(12649, 247)"
      ]
     },
     "execution_count": 9,
     "metadata": {},
     "output_type": "execute_result"
    }
   ],
   "source": [
    "df_pub.shape"
   ]
  },
  {
   "cell_type": "code",
   "execution_count": 10,
   "metadata": {},
   "outputs": [
    {
     "data": {
      "text/plain": [
       "(10696, 203)"
      ]
     },
     "execution_count": 10,
     "metadata": {},
     "output_type": "execute_result"
    }
   ],
   "source": [
    "df_priv.shape"
   ]
  },
  {
   "cell_type": "code",
   "execution_count": 11,
   "metadata": {},
   "outputs": [
    {
     "data": {
      "text/plain": [
       "(17447, 246)"
      ]
     },
     "execution_count": 11,
     "metadata": {},
     "output_type": "execute_result"
    }
   ],
   "source": [
    "df_priv_profit.shape"
   ]
  },
  {
   "cell_type": "code",
   "execution_count": null,
   "metadata": {},
   "outputs": [],
   "source": []
  },
  {
   "cell_type": "code",
   "execution_count": null,
   "metadata": {},
   "outputs": [],
   "source": []
  },
  {
   "cell_type": "markdown",
   "metadata": {},
   "source": [
    "## Random Forest"
   ]
  },
  {
   "cell_type": "code",
   "execution_count": 12,
   "metadata": {},
   "outputs": [],
   "source": [
    "def fitRandomForestRegressor(df, train_features, target='debt_to_income'):\n",
    "    # Instantiate model with 10 decision trees\n",
    "    rf = RandomForestRegressor(n_estimators = 100, random_state = 42, oob_score=True)\n",
    "\n",
    "    rf.fit(df[train_features], df['debt_to_income'])\n",
    "    \n",
    "    return rf\n"
   ]
  },
  {
   "cell_type": "code",
   "execution_count": 13,
   "metadata": {},
   "outputs": [],
   "source": [
    "def getImportantFeatures(rf, df):\n",
    "    important_features_dict = {}\n",
    "    for x,i in enumerate(rf.feature_importances_):\n",
    "        important_features_dict[x]=i\n",
    "\n",
    "\n",
    "    important_features_list = sorted(important_features_dict,\n",
    "                                     key=important_features_dict.get,\n",
    "                                     reverse=True)\n",
    "    \n",
    "    top_features = df.columns[important_features_list]\n",
    "    \n",
    "    return top_features[:20]"
   ]
  },
  {
   "cell_type": "code",
   "execution_count": 14,
   "metadata": {},
   "outputs": [
    {
     "name": "stdout",
     "output_type": "stream",
     "text": [
      "Important Features for Public Colleges/Universities: \n",
      "Index(['PREDDEG', 'PPTUG_EF', 'HIGHDEG', 'UGDS_UNKN', 'ICLEVEL', 'UGDS',\n",
      "       'REGION', 'ST_FIPS', 'PCIP50', 'CIP24CERT2', 'PCIP43', 'PCIP44',\n",
      "       'UGDS_NRA', 'CIP51BACHL', 'PCIP51', 'PCIP42', 'CIP52BACHL', 'PCIP11',\n",
      "       'UGDS_WOMEN', 'UGDS_MEN'],\n",
      "      dtype='object')\n",
      "CPU times: user 51.4 s, sys: 403 ms, total: 51.8 s\n",
      "Wall time: 51.3 s\n"
     ]
    }
   ],
   "source": [
    "%%time\n",
    "df_pub_copy = format_df(df_pub)\n",
    "\n",
    "# Split train data\n",
    "df_pub_train = df_pub_copy.dropna(subset=['debt_to_income'])\n",
    "\n",
    "print('Important Features for Public Colleges/Universities: ')\n",
    "train_features_pub = list(df_pub_train.columns)\n",
    "train_features_pub.remove('debt_to_income')\n",
    "train_features_pub.remove('UNITID')\n",
    "train_features_pub.remove('year')\n",
    "\n",
    "rf_pub = fitRandomForestRegressor(df_pub_train, train_features_pub)\n",
    "top_features_pub = getImportantFeatures(rf_pub, df_pub_train)\n",
    "print(top_features_pub)"
   ]
  },
  {
   "cell_type": "code",
   "execution_count": 15,
   "metadata": {},
   "outputs": [
    {
     "name": "stdout",
     "output_type": "stream",
     "text": [
      "Important Features for Private Colleges/Universities: \n",
      "Index(['CIP50BACHL', 'OPEID', 'OPEID6', 'CIP52BACHL', 'ST_FIPS', 'REGION',\n",
      "       'CIP50ASSOC', 'NUMBRANCH', 'HIGHDEG', 'PREDDEG', 'CIP51BACHL',\n",
      "       'CIP40BACHL', 'CIP24BACHL', 'CIP13BACHL', 'CIP14BACHL', 'CIP42BACHL',\n",
      "       'CIP11BACHL', 'CIP43BACHL', 'CIP30BACHL', 'CIP16BACHL'],\n",
      "      dtype='object')\n",
      "CPU times: user 14.8 s, sys: 206 ms, total: 15 s\n",
      "Wall time: 14.7 s\n"
     ]
    }
   ],
   "source": [
    "%%time\n",
    "df_priv_copy = format_df(df_priv)\n",
    "\n",
    "# Split train data\n",
    "df_priv_train = df_priv_copy.dropna(subset=['debt_to_income'])\n",
    "\n",
    "print('Important Features for Private Colleges/Universities: ')\n",
    "train_features_priv = list(df_priv_train.columns)\n",
    "train_features_priv.remove('debt_to_income')\n",
    "train_features_priv.remove('UNITID')\n",
    "train_features_priv.remove('year')\n",
    "\n",
    "rf_priv = fitRandomForestRegressor(df_priv_train, train_features_priv)\n",
    "top_features_priv = getImportantFeatures(rf_priv, df_priv_train)\n",
    "print(top_features_priv)"
   ]
  },
  {
   "cell_type": "code",
   "execution_count": 16,
   "metadata": {},
   "outputs": [
    {
     "name": "stdout",
     "output_type": "stream",
     "text": [
      "Important Features for Private for Profit Colleges/Universities: \n",
      "Index(['UGDS', 'NUMBRANCH', 'OPEID', 'OPEID6', 'PCIP52', 'UGDS_WOMEN',\n",
      "       'ST_FIPS', 'UGDS_MEN', 'UGDS_UNKN', 'REGION', 'PCIP51', 'PCIP11',\n",
      "       'PCIP50', 'PCIP12', 'HIGHDEG', 'UGDS_NRA', 'PCIP43', 'PREDDEG',\n",
      "       'PCIP22', 'CIP12CERT2'],\n",
      "      dtype='object')\n",
      "CPU times: user 34.2 s, sys: 309 ms, total: 34.5 s\n",
      "Wall time: 33.7 s\n"
     ]
    }
   ],
   "source": [
    "%%time\n",
    "df_priv_profit_copy = format_df(df_priv_profit)\n",
    "\n",
    "# Split train data\n",
    "df_priv_profit_train = df_priv_profit_copy.dropna(subset=['debt_to_income'])\n",
    "\n",
    "print('Important Features for Private for Profit Colleges/Universities: ')\n",
    "train_features_priv_profit = list(df_priv_profit_train.columns)\n",
    "train_features_priv_profit.remove('debt_to_income')\n",
    "train_features_priv_profit.remove('UNITID')\n",
    "train_features_priv_profit.remove('year')\n",
    "\n",
    "rf_priv_profit = fitRandomForestRegressor(df_priv_profit_train, train_features_priv_profit)\n",
    "top_features_priv_profit = getImportantFeatures(rf_priv_profit, df_priv_profit_train)\n",
    "print(top_features_priv_profit)"
   ]
  },
  {
   "cell_type": "code",
   "execution_count": 17,
   "metadata": {},
   "outputs": [
    {
     "name": "stdout",
     "output_type": "stream",
     "text": [
      "0.7642718776757831\n",
      "0.6814161611466039\n",
      "0.6221092027409192\n"
     ]
    }
   ],
   "source": [
    "print(rf_pub.oob_score_)\n",
    "print(rf_priv.oob_score_)\n",
    "print(rf_priv_profit.oob_score_)\n"
   ]
  },
  {
   "cell_type": "code",
   "execution_count": null,
   "metadata": {},
   "outputs": [],
   "source": []
  },
  {
   "cell_type": "code",
   "execution_count": null,
   "metadata": {},
   "outputs": [],
   "source": []
  },
  {
   "cell_type": "code",
   "execution_count": null,
   "metadata": {},
   "outputs": [],
   "source": []
  },
  {
   "cell_type": "markdown",
   "metadata": {},
   "source": [
    "## Predicting NYU Debt-to-Income"
   ]
  },
  {
   "cell_type": "code",
   "execution_count": 18,
   "metadata": {},
   "outputs": [],
   "source": [
    "df_nyu = full_df.loc[full_df['UNITID'] == 193900]"
   ]
  },
  {
   "cell_type": "code",
   "execution_count": 19,
   "metadata": {},
   "outputs": [
    {
     "data": {
      "image/png": "[encoded data removed]",
      "text/plain": [
       "<Figure size 1080x360 with 1 Axes>"
      ]
     },
     "metadata": {
      "needs_background": "light"
     },
     "output_type": "display_data"
    }
   ],
   "source": [
    "predictions = rf_priv.predict(df_nyu[train_features_priv])\n",
    "\n",
    "nyu_data = {\n",
    "    'year': list(df_nyu['year']),\n",
    "    'debt_to_income': list(df_nyu['debt_to_income']),\n",
    "    'prediction': list(predictions)\n",
    "}\n",
    "\n",
    "df_nyu = pd.DataFrame(nyu_data)\n",
    "\n",
    "ax = df_nyu.plot.bar(\n",
    "    x='year',\n",
    "    title='NYU Debt-To-Income Prediction',\n",
    "    legend=False,\n",
    "    figsize=(15,5)\n",
    ")"
   ]
  },
  {
   "cell_type": "code",
   "execution_count": null,
   "metadata": {},
   "outputs": [],
   "source": []
  }
 ],
 "metadata": {
  "colab": {
   "collapsed_sections": [],
   "include_colab_link": true,
   "name": "Untitled0.ipynb",
   "provenance": []
  },
  "kernelspec": {
   "display_name": "Python 3",
   "language": "python",
   "name": "python3"
  },
  "language_info": {
   "codemirror_mode": {
    "name": "ipython",
    "version": 3
   },
   "file_extension": ".py",
   "mimetype": "text/x-python",
   "name": "python",
   "nbconvert_exporter": "python",
   "pygments_lexer": "ipython3",
   "version": "3.7.4"
  }
 },
 "nbformat": 4,
 "nbformat_minor": 1
}
